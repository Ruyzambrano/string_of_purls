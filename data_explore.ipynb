{
 "cells": [
  {
   "cell_type": "code",
   "execution_count": 329,
   "id": "60c5d3f2",
   "metadata": {},
   "outputs": [
    {
     "data": {
      "text/plain": [
       "True"
      ]
     },
     "execution_count": 329,
     "metadata": {},
     "output_type": "execute_result"
    }
   ],
   "source": [
    "import requests\n",
    "from dotenv import load_dotenv\n",
    "from os import environ as ENV\n",
    "import pandas as pd\n",
    "from datetime import datetime\n",
    "from psycopg2 import connect\n",
    "from psycopg2.extras import RealDictCursor\n",
    "import asyncio\n",
    "import aiohttp\n",
    "\n",
    "load_dotenv()"
   ]
  },
  {
   "cell_type": "code",
   "execution_count": 330,
   "id": "5f254347",
   "metadata": {},
   "outputs": [],
   "source": [
    "BASE_URL = \"https://api.ravelry.com\"\n",
    "username = ENV.get(\"USERNAME\")\n",
    "password = ENV.get(\"PASSWORD\")"
   ]
  },
  {
   "cell_type": "code",
   "execution_count": 331,
   "id": "e754a536",
   "metadata": {},
   "outputs": [],
   "source": [
    "def make_get_request(url, username, password):\n",
    "    response = requests.get(url, auth=(username, password))\n",
    "    if response.status_code == 200:\n",
    "        return response.json()"
   ]
  },
  {
   "cell_type": "code",
   "execution_count": 332,
   "id": "11c4fb0e",
   "metadata": {},
   "outputs": [],
   "source": [
    "def get_yarn_info(yarn_id: str, username: str, password:str):\n",
    "    url = BASE_URL + f\"/yarns/{yarn_id}.json\"\n",
    "    return make_get_request(url, username, password)"
   ]
  },
  {
   "cell_type": "code",
   "execution_count": 333,
   "id": "4017f80c",
   "metadata": {},
   "outputs": [],
   "source": [
    "async def get_pattern_info(pattern_id: str, username: str, password: str):\n",
    "    url = BASE_URL + f\"/patterns/{pattern_id}.json\"\n",
    "    response = await make_get_request(url, username, password)\n",
    "    return response.get(\"pattern\")"
   ]
  },
  {
   "cell_type": "code",
   "execution_count": 334,
   "id": "62fb4912",
   "metadata": {},
   "outputs": [],
   "source": [
    "def get_pattern_search(username: str, password: str, query: str=None) -> list[dict]:\n",
    "    url = BASE_URL + \"/patterns/search.json\"\n",
    "    if query:\n",
    "        url += f\"?query={query}\"\n",
    "    return make_get_request(url, username, password)"
   ]
  },
  {
   "cell_type": "code",
   "execution_count": 344,
   "id": "dffedd56",
   "metadata": {},
   "outputs": [],
   "source": [
    "def get_single_pattern(id: str, username, password):\n",
    "    url = BASE_URL + f\"/patterns/{id}.json\"\n",
    "    return make_get_request(url, username, password)"
   ]
  },
  {
   "cell_type": "code",
   "execution_count": 335,
   "id": "d3cd42b7",
   "metadata": {},
   "outputs": [],
   "source": [
    "pattern_response = get_pattern_search(username, password).get(\"patterns\")"
   ]
  },
  {
   "cell_type": "code",
   "execution_count": 339,
   "id": "703fc382",
   "metadata": {},
   "outputs": [
    {
     "data": {
      "text/plain": [
       "dict_keys(['free', 'id', 'name', 'permalink', 'personal_attributes', 'first_photo', 'designer', 'pattern_author', 'pattern_sources'])"
      ]
     },
     "execution_count": 339,
     "metadata": {},
     "output_type": "execute_result"
    }
   ],
   "source": [
    "first_pattern = pattern_response[4]\n",
    "first_pattern.keys()"
   ]
  },
  {
   "cell_type": "code",
   "execution_count": 350,
   "id": "40e74d9f",
   "metadata": {},
   "outputs": [
    {
     "data": {
      "text/plain": [
       "[{'id': 132164619,\n",
       "  'primary_pack_id': None,\n",
       "  'project_id': None,\n",
       "  'skeins': None,\n",
       "  'stash_id': None,\n",
       "  'total_grams': None,\n",
       "  'total_meters': None,\n",
       "  'total_ounces': None,\n",
       "  'total_yards': None,\n",
       "  'yarn_id': 170009,\n",
       "  'yarn_name': 'Knitting for Olive Cotton Merino',\n",
       "  'yarn_weight': {'crochet_gauge': None,\n",
       "   'id': 13,\n",
       "   'knit_gauge': '32',\n",
       "   'max_gauge': None,\n",
       "   'min_gauge': None,\n",
       "   'name': 'Light Fingering',\n",
       "   'ply': '3',\n",
       "   'wpi': None},\n",
       "  'colorway': None,\n",
       "  'shop_name': None,\n",
       "  'yarn': {'permalink': 'knitting-for-olive-cotton-merino',\n",
       "   'id': 170009,\n",
       "   'name': 'Cotton Merino',\n",
       "   'yarn_company_name': 'Knitting for Olive',\n",
       "   'yarn_company_id': 17280},\n",
       "  'quantity_description': None,\n",
       "  'personal_name': None,\n",
       "  'dye_lot': None,\n",
       "  'color_family_id': None,\n",
       "  'grams_per_skein': None,\n",
       "  'yards_per_skein': None,\n",
       "  'meters_per_skein': None,\n",
       "  'ounces_per_skein': None,\n",
       "  'prefer_metric_weight': True,\n",
       "  'prefer_metric_length': False,\n",
       "  'shop_id': None,\n",
       "  'thread_size': None},\n",
       " {'id': 132164620,\n",
       "  'primary_pack_id': None,\n",
       "  'project_id': None,\n",
       "  'skeins': None,\n",
       "  'stash_id': None,\n",
       "  'total_grams': None,\n",
       "  'total_meters': None,\n",
       "  'total_ounces': None,\n",
       "  'total_yards': None,\n",
       "  'yarn_id': 206165,\n",
       "  'yarn_name': 'Knitting for Olive Compatible Cashmere',\n",
       "  'yarn_weight': {'crochet_gauge': '',\n",
       "   'id': 7,\n",
       "   'knit_gauge': '32-34',\n",
       "   'max_gauge': None,\n",
       "   'min_gauge': None,\n",
       "   'name': 'Lace',\n",
       "   'ply': '2',\n",
       "   'wpi': None},\n",
       "  'colorway': None,\n",
       "  'shop_name': None,\n",
       "  'yarn': {'permalink': 'knitting-for-olive-compatible-cashmere',\n",
       "   'id': 206165,\n",
       "   'name': 'Compatible Cashmere',\n",
       "   'yarn_company_name': 'Knitting for Olive',\n",
       "   'yarn_company_id': 17280},\n",
       "  'quantity_description': None,\n",
       "  'personal_name': None,\n",
       "  'dye_lot': None,\n",
       "  'color_family_id': None,\n",
       "  'grams_per_skein': None,\n",
       "  'yards_per_skein': None,\n",
       "  'meters_per_skein': None,\n",
       "  'ounces_per_skein': None,\n",
       "  'prefer_metric_weight': True,\n",
       "  'prefer_metric_length': False,\n",
       "  'shop_id': None,\n",
       "  'thread_size': None}]"
      ]
     },
     "execution_count": 350,
     "metadata": {},
     "output_type": "execute_result"
    }
   ],
   "source": [
    "pattern_detail = get_single_pattern(first_pattern.get(\"id\"), username, password)[\"pattern\"]\n",
    "pattern_detail.get(\"packs\")"
   ]
  }
 ],
 "metadata": {
  "kernelspec": {
   "display_name": ".venv",
   "language": "python",
   "name": "python3"
  },
  "language_info": {
   "codemirror_mode": {
    "name": "ipython",
    "version": 3
   },
   "file_extension": ".py",
   "mimetype": "text/x-python",
   "name": "python",
   "nbconvert_exporter": "python",
   "pygments_lexer": "ipython3",
   "version": "3.13.2"
  }
 },
 "nbformat": 4,
 "nbformat_minor": 5
}
