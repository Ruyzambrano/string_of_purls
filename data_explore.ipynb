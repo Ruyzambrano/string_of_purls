{
 "cells": [
  {
   "cell_type": "code",
   "execution_count": 329,
   "id": "60c5d3f2",
   "metadata": {},
   "outputs": [
    {
     "data": {
      "text/plain": [
       "True"
      ]
     },
     "execution_count": 329,
     "metadata": {},
     "output_type": "execute_result"
    }
   ],
   "source": [
    "import requests\n",
    "from dotenv import load_dotenv\n",
    "from os import environ as ENV\n",
    "import pandas as pd\n",
    "from datetime import datetime\n",
    "from psycopg2 import connect\n",
    "from psycopg2.extras import RealDictCursor\n",
    "import asyncio\n",
    "import aiohttp\n",
    "\n",
    "load_dotenv()"
   ]
  },
  {
   "cell_type": "code",
   "execution_count": 330,
   "id": "5f254347",
   "metadata": {},
   "outputs": [],
   "source": [
    "BASE_URL = \"https://api.ravelry.com\"\n",
    "username = ENV.get(\"USERNAME\")\n",
    "password = ENV.get(\"PASSWORD\")"
   ]
  },
  {
   "cell_type": "code",
   "execution_count": 331,
   "id": "e754a536",
   "metadata": {},
   "outputs": [],
   "source": [
    "def make_get_request(url, username, password):\n",
    "    response = requests.get(url, auth=(username, password))\n",
    "    if response.status_code == 200:\n",
    "        return response.json()"
   ]
  },
  {
   "cell_type": "code",
   "execution_count": 332,
   "id": "11c4fb0e",
   "metadata": {},
   "outputs": [],
   "source": [
    "def get_yarn_info(yarn_id: str, username: str, password:str):\n",
    "    url = BASE_URL + f\"/yarns/{yarn_id}.json\"\n",
    "    return make_get_request(url, username, password)"
   ]
  },
  {
   "cell_type": "code",
   "execution_count": 333,
   "id": "4017f80c",
   "metadata": {},
   "outputs": [],
   "source": [
    "async def get_pattern_info(pattern_id: str, username: str, password: str):\n",
    "    url = BASE_URL + f\"/patterns/{pattern_id}.json\"\n",
    "    response = await make_get_request(url, username, password)\n",
    "    return response.get(\"pattern\")"
   ]
  },
  {
   "cell_type": "code",
   "execution_count": 334,
   "id": "62fb4912",
   "metadata": {},
   "outputs": [],
   "source": [
    "def get_pattern_search(username: str, password: str, query: str=None) -> list[dict]:\n",
    "    url = BASE_URL + \"/patterns/search.json\"\n",
    "    if query:\n",
    "        url += f\"?query={query}\"\n",
    "    return make_get_request(url, username, password)"
   ]
  },
  {
   "cell_type": "code",
   "execution_count": 335,
   "id": "d3cd42b7",
   "metadata": {},
   "outputs": [],
   "source": [
    "pattern_response = get_pattern_search(username, password).get(\"patterns\")"
   ]
  },
  {
   "cell_type": "code",
   "execution_count": 336,
   "id": "703fc382",
   "metadata": {},
   "outputs": [
    {
     "data": {
      "text/plain": [
       "{'free': False,\n",
       " 'id': 7437682,\n",
       " 'name': 'Cabana Tee',\n",
       " 'permalink': 'cabana-tee-2',\n",
       " 'personal_attributes': None,\n",
       " 'first_photo': {'id': 139529672,\n",
       "  'sort_order': 1,\n",
       "  'user_id': 10930909,\n",
       "  'x_offset': -4,\n",
       "  'y_offset': -35,\n",
       "  'square_url': 'https://images4-f.ravelrycache.com/uploads/cocoamourknitwear/1070985064/IMG_3106_2_square.jpeg',\n",
       "  'medium_url': 'https://images4-f.ravelrycache.com/uploads/cocoamourknitwear/1070985064/IMG_3106_2_medium.jpeg',\n",
       "  'thumbnail_url': 'https://images4-g.ravelrycache.com/uploads/cocoamourknitwear/1070985064/IMG_3106_2_thumbnail.jpeg',\n",
       "  'small_url': 'https://images4-g.ravelrycache.com/uploads/cocoamourknitwear/1070985064/IMG_3106_2_small.jpeg',\n",
       "  'medium2_url': 'https://images4-a.ravelrycache.com/uploads/cocoamourknitwear/1070985064/IMG_3106_2_medium2.jpeg',\n",
       "  'small2_url': 'https://images4-g.ravelrycache.com/uploads/cocoamourknitwear/1070985064/IMG_3106_2_small2.jpeg',\n",
       "  'caption': None,\n",
       "  'caption_html': None,\n",
       "  'copyright_holder': None},\n",
       " 'designer': {'crochet_pattern_count': 0,\n",
       "  'favorites_count': 4866,\n",
       "  'id': 137215,\n",
       "  'knitting_pattern_count': 54,\n",
       "  'name': 'Cheryl Mokhtari',\n",
       "  'patterns_count': 54,\n",
       "  'permalink': 'cheryl-mokhtari',\n",
       "  'users': [{'id': 10930909,\n",
       "    'username': 'cocoamourknitwear',\n",
       "    'tiny_photo_url': None,\n",
       "    'small_photo_url': None,\n",
       "    'photo_url': None}]},\n",
       " 'pattern_author': {'crochet_pattern_count': 0,\n",
       "  'favorites_count': 4866,\n",
       "  'id': 137215,\n",
       "  'knitting_pattern_count': 54,\n",
       "  'name': 'Cheryl Mokhtari',\n",
       "  'patterns_count': 54,\n",
       "  'permalink': 'cheryl-mokhtari',\n",
       "  'users': [{'id': 10930909,\n",
       "    'username': 'cocoamourknitwear',\n",
       "    'tiny_photo_url': None,\n",
       "    'small_photo_url': None,\n",
       "    'photo_url': None}]},\n",
       " 'pattern_sources': [{'amazon_rating': None,\n",
       "   'amazon_reviews': None,\n",
       "   'amazon_sales_rank': None,\n",
       "   'amazon_updated_at': None,\n",
       "   'amazon_url': None,\n",
       "   'approved_patterns_count': 37,\n",
       "   'asin': '',\n",
       "   'author': 'Cheryl Mokhtari',\n",
       "   'author_pattern_author_id': 137215,\n",
       "   'author_surname': 'Mokhtari',\n",
       "   'book_binding': None,\n",
       "   'completed': False,\n",
       "   'created_at': '2022/07/21 01:34:03 -0400',\n",
       "   'created_by_user_id': 10930909,\n",
       "   'designer_pending_patterns_count': 0,\n",
       "   'designer_users_count': 0,\n",
       "   'editorships_count': 0,\n",
       "   'favorites_count': 900,\n",
       "   'first_photo_id': None,\n",
       "   'flaggings_count': 0,\n",
       "   'fulfilled_by_ravelry': False,\n",
       "   'has_photo': False,\n",
       "   'id': 327769,\n",
       "   'isbn_13': None,\n",
       "   'issue': None,\n",
       "   'keywords': '',\n",
       "   'label': None,\n",
       "   'large_image_url': None,\n",
       "   'last_pattern_edit': '2025/06/11 09:05:34 -0400',\n",
       "   'link_id': 561596,\n",
       "   'list_price': None,\n",
       "   'lock_version': 2,\n",
       "   'medium_image_url': None,\n",
       "   'name': 'Coco Amour Ravelry Store',\n",
       "   'out_of_print': False,\n",
       "   'pattern_source_type_id': 7,\n",
       "   'patterns_count': 53,\n",
       "   'pending_patterns_count': 16,\n",
       "   'periodical': False,\n",
       "   'permalink': 'coco-amour-ravelry-store',\n",
       "   'photos_permitted': False,\n",
       "   'popularity': 0.0,\n",
       "   'popularity_rank': 2147483647,\n",
       "   'price': None,\n",
       "   'publication_date': None,\n",
       "   'publication_date_set': 0,\n",
       "   'publication_day_set': 0,\n",
       "   'publication_sort_order': None,\n",
       "   'publication_year': None,\n",
       "   'publisher_id': None,\n",
       "   'shelf_image_path': None,\n",
       "   'shelf_image_size': None,\n",
       "   'small_image_url': None,\n",
       "   'source_group_id': None,\n",
       "   'stickies_count': 1,\n",
       "   'store_id': 95679,\n",
       "   'updated_at': '2022/07/21 03:06:21 -0400',\n",
       "   'url': 'http://www.ravelry.com/stores/coco-amour-knitwear-designs',\n",
       "   'work_id': None,\n",
       "   'notes': ''}]}"
      ]
     },
     "execution_count": 336,
     "metadata": {},
     "output_type": "execute_result"
    }
   ],
   "source": [
    "first_pattern = pattern_response[4]\n",
    "first_pattern"
   ]
  }
 ],
 "metadata": {
  "kernelspec": {
   "display_name": ".venv",
   "language": "python",
   "name": "python3"
  },
  "language_info": {
   "codemirror_mode": {
    "name": "ipython",
    "version": 3
   },
   "file_extension": ".py",
   "mimetype": "text/x-python",
   "name": "python",
   "nbconvert_exporter": "python",
   "pygments_lexer": "ipython3",
   "version": "3.13.2"
  }
 },
 "nbformat": 4,
 "nbformat_minor": 5
}
